{
  "nbformat": 4,
  "nbformat_minor": 0,
  "metadata": {
    "colab": {
      "provenance": [],
      "mount_file_id": "1JgH_bEr5qJIQIg8B0OVMI-fkrjhn--qX",
      "authorship_tag": "ABX9TyNSCHn+ZUT8w72zoZFghN97",
      "include_colab_link": true
    },
    "kernelspec": {
      "name": "python3",
      "display_name": "Python 3"
    },
    "language_info": {
      "name": "python"
    }
  },
  "cells": [
    {
      "cell_type": "markdown",
      "metadata": {
        "id": "view-in-github",
        "colab_type": "text"
      },
      "source": [
        "<a href=\"https://colab.research.google.com/github/nurayyozden/Earthquake-Project/blob/main/P3.ipynb\" target=\"_parent\"><img src=\"https://colab.research.google.com/assets/colab-badge.svg\" alt=\"Open In Colab\"/></a>"
      ]
    },
    {
      "cell_type": "code",
      "source": [
        "import pandas as pd\n",
        "import numpy as np\n",
        "import matplotlib.pyplot as plt\n",
        "import seaborn as sns\n",
        "\n",
        "from sklearn.ensemble import RandomForestClassifier\n",
        "from sklearn.model_selection import train_test_split\n",
        "from sklearn.metrics import accuracy_score, precision_score, recall_score, f1_score, classification_report\n",
        "\n",
        "from sklearn.linear_model import LinearRegression"
      ],
      "metadata": {
        "id": "YJk7Bhnw-csd"
      },
      "execution_count": 1,
      "outputs": []
    },
    {
      "cell_type": "code",
      "source": [
        "# to only read the non-hidden columns\n",
        "cols = ['Date', 'Year', 'Month', 'Occurance Time', 'Datetime', 'Latitude', 'Longitude', 'Depth',\n",
        "        'Largest Magnitude', 'Magnitude Duration', 'Magnitude Local',\n",
        "        'Magnitude Moment', 'Magnitude Surface Wave', 'Magnitude Body Wave', 'Location',\n",
        "        'Missing MD', 'Missing ML', 'Missing MM', 'Missing MSW', 'Missing MBW']\n",
        "\n",
        "\n",
        "df = pd.read_excel(\"/content/drive/My Drive/BIG GIRL NUNI/project1_turkey.xlsx\", usecols = cols)"
      ],
      "metadata": {
        "id": "f4-38yx8-Wvc"
      },
      "execution_count": 2,
      "outputs": []
    },
    {
      "cell_type": "code",
      "source": [
        "# deleting the rows with corrupted data\n",
        "df = df.drop([6786, 16597, 19907])"
      ],
      "metadata": {
        "id": "VBivKq0O6mIs"
      },
      "execution_count": 3,
      "outputs": []
    },
    {
      "cell_type": "code",
      "source": [
        "df.head()"
      ],
      "metadata": {
        "colab": {
          "base_uri": "https://localhost:8080/",
          "height": 478
        },
        "id": "ZNWF_XGJ-VLR",
        "outputId": "fd997a5a-81c4-4dc4-9d57-2dc193e09184"
      },
      "execution_count": 4,
      "outputs": [
        {
          "output_type": "execute_result",
          "data": {
            "text/plain": [
              "                  Date  Year Month   Occurance Time  \\\n",
              "0  2023-04-30 00:00:00  2023     4         13:01:28   \n",
              "1  2023-04-30 00:00:00  2023     4  04:02:53.490000   \n",
              "2  2023-04-30 00:00:00  2023     4  02:51:22.150000   \n",
              "3  2023-04-29 00:00:00  2023     4  19:48:32.870000   \n",
              "4  2023-04-29 00:00:00  2023     4  17:58:29.200000   \n",
              "\n",
              "                     Datetime  Latitude  Longitude  Depth  Largest Magnitude  \\\n",
              "0  2023-04-30 13:01:28.416000   38.3392    37.7633    8.7                4.3   \n",
              "1  2023-04-30 04:02:53.088000   40.8077    31.0708    3.7                3.5   \n",
              "2  2023-04-30 02:51:22.464000   35.6422    34.0252   22.4                3.5   \n",
              "3  2023-04-29 19:48:32.832000   37.8623    36.2185    5.0                4.0   \n",
              "4  2023-04-29 17:58:29.280000   38.0220    36.4457    5.0                3.7   \n",
              "\n",
              "   Magnitude Duration  Magnitude Local  Magnitude Moment  \\\n",
              "0                 0.0              4.3               4.3   \n",
              "1                 0.0              3.5               3.4   \n",
              "2                 0.0              3.5               3.5   \n",
              "3                 0.0              3.9               4.0   \n",
              "4                 0.0              3.7               3.4   \n",
              "\n",
              "   Magnitude Surface Wave  Magnitude Body Wave       Location  Missing MD  \\\n",
              "0                     0.0                  0.0        MALATYA           1   \n",
              "1                     0.0                  0.0          DUZCE           1   \n",
              "2                     0.0                  0.0        AKDENIZ           1   \n",
              "3                     0.0                  0.0          ADANA           1   \n",
              "4                     0.0                  0.0  KAHRAMANMARAS           1   \n",
              "\n",
              "   Missing ML  Missing MM  Missing MSW  Missing MBW  \n",
              "0         0.0           0            1            1  \n",
              "1         0.0           0            1            1  \n",
              "2         0.0           0            1            1  \n",
              "3         0.0           0            1            1  \n",
              "4         0.0           0            1            1  "
            ],
            "text/html": [
              "\n",
              "\n",
              "  <div id=\"df-4ade37b9-69b7-47b5-9e36-78e32326c3d5\">\n",
              "    <div class=\"colab-df-container\">\n",
              "      <div>\n",
              "<style scoped>\n",
              "    .dataframe tbody tr th:only-of-type {\n",
              "        vertical-align: middle;\n",
              "    }\n",
              "\n",
              "    .dataframe tbody tr th {\n",
              "        vertical-align: top;\n",
              "    }\n",
              "\n",
              "    .dataframe thead th {\n",
              "        text-align: right;\n",
              "    }\n",
              "</style>\n",
              "<table border=\"1\" class=\"dataframe\">\n",
              "  <thead>\n",
              "    <tr style=\"text-align: right;\">\n",
              "      <th></th>\n",
              "      <th>Date</th>\n",
              "      <th>Year</th>\n",
              "      <th>Month</th>\n",
              "      <th>Occurance Time</th>\n",
              "      <th>Datetime</th>\n",
              "      <th>Latitude</th>\n",
              "      <th>Longitude</th>\n",
              "      <th>Depth</th>\n",
              "      <th>Largest Magnitude</th>\n",
              "      <th>Magnitude Duration</th>\n",
              "      <th>Magnitude Local</th>\n",
              "      <th>Magnitude Moment</th>\n",
              "      <th>Magnitude Surface Wave</th>\n",
              "      <th>Magnitude Body Wave</th>\n",
              "      <th>Location</th>\n",
              "      <th>Missing MD</th>\n",
              "      <th>Missing ML</th>\n",
              "      <th>Missing MM</th>\n",
              "      <th>Missing MSW</th>\n",
              "      <th>Missing MBW</th>\n",
              "    </tr>\n",
              "  </thead>\n",
              "  <tbody>\n",
              "    <tr>\n",
              "      <th>0</th>\n",
              "      <td>2023-04-30 00:00:00</td>\n",
              "      <td>2023</td>\n",
              "      <td>4</td>\n",
              "      <td>13:01:28</td>\n",
              "      <td>2023-04-30 13:01:28.416000</td>\n",
              "      <td>38.3392</td>\n",
              "      <td>37.7633</td>\n",
              "      <td>8.7</td>\n",
              "      <td>4.3</td>\n",
              "      <td>0.0</td>\n",
              "      <td>4.3</td>\n",
              "      <td>4.3</td>\n",
              "      <td>0.0</td>\n",
              "      <td>0.0</td>\n",
              "      <td>MALATYA</td>\n",
              "      <td>1</td>\n",
              "      <td>0.0</td>\n",
              "      <td>0</td>\n",
              "      <td>1</td>\n",
              "      <td>1</td>\n",
              "    </tr>\n",
              "    <tr>\n",
              "      <th>1</th>\n",
              "      <td>2023-04-30 00:00:00</td>\n",
              "      <td>2023</td>\n",
              "      <td>4</td>\n",
              "      <td>04:02:53.490000</td>\n",
              "      <td>2023-04-30 04:02:53.088000</td>\n",
              "      <td>40.8077</td>\n",
              "      <td>31.0708</td>\n",
              "      <td>3.7</td>\n",
              "      <td>3.5</td>\n",
              "      <td>0.0</td>\n",
              "      <td>3.5</td>\n",
              "      <td>3.4</td>\n",
              "      <td>0.0</td>\n",
              "      <td>0.0</td>\n",
              "      <td>DUZCE</td>\n",
              "      <td>1</td>\n",
              "      <td>0.0</td>\n",
              "      <td>0</td>\n",
              "      <td>1</td>\n",
              "      <td>1</td>\n",
              "    </tr>\n",
              "    <tr>\n",
              "      <th>2</th>\n",
              "      <td>2023-04-30 00:00:00</td>\n",
              "      <td>2023</td>\n",
              "      <td>4</td>\n",
              "      <td>02:51:22.150000</td>\n",
              "      <td>2023-04-30 02:51:22.464000</td>\n",
              "      <td>35.6422</td>\n",
              "      <td>34.0252</td>\n",
              "      <td>22.4</td>\n",
              "      <td>3.5</td>\n",
              "      <td>0.0</td>\n",
              "      <td>3.5</td>\n",
              "      <td>3.5</td>\n",
              "      <td>0.0</td>\n",
              "      <td>0.0</td>\n",
              "      <td>AKDENIZ</td>\n",
              "      <td>1</td>\n",
              "      <td>0.0</td>\n",
              "      <td>0</td>\n",
              "      <td>1</td>\n",
              "      <td>1</td>\n",
              "    </tr>\n",
              "    <tr>\n",
              "      <th>3</th>\n",
              "      <td>2023-04-29 00:00:00</td>\n",
              "      <td>2023</td>\n",
              "      <td>4</td>\n",
              "      <td>19:48:32.870000</td>\n",
              "      <td>2023-04-29 19:48:32.832000</td>\n",
              "      <td>37.8623</td>\n",
              "      <td>36.2185</td>\n",
              "      <td>5.0</td>\n",
              "      <td>4.0</td>\n",
              "      <td>0.0</td>\n",
              "      <td>3.9</td>\n",
              "      <td>4.0</td>\n",
              "      <td>0.0</td>\n",
              "      <td>0.0</td>\n",
              "      <td>ADANA</td>\n",
              "      <td>1</td>\n",
              "      <td>0.0</td>\n",
              "      <td>0</td>\n",
              "      <td>1</td>\n",
              "      <td>1</td>\n",
              "    </tr>\n",
              "    <tr>\n",
              "      <th>4</th>\n",
              "      <td>2023-04-29 00:00:00</td>\n",
              "      <td>2023</td>\n",
              "      <td>4</td>\n",
              "      <td>17:58:29.200000</td>\n",
              "      <td>2023-04-29 17:58:29.280000</td>\n",
              "      <td>38.0220</td>\n",
              "      <td>36.4457</td>\n",
              "      <td>5.0</td>\n",
              "      <td>3.7</td>\n",
              "      <td>0.0</td>\n",
              "      <td>3.7</td>\n",
              "      <td>3.4</td>\n",
              "      <td>0.0</td>\n",
              "      <td>0.0</td>\n",
              "      <td>KAHRAMANMARAS</td>\n",
              "      <td>1</td>\n",
              "      <td>0.0</td>\n",
              "      <td>0</td>\n",
              "      <td>1</td>\n",
              "      <td>1</td>\n",
              "    </tr>\n",
              "  </tbody>\n",
              "</table>\n",
              "</div>\n",
              "      <button class=\"colab-df-convert\" onclick=\"convertToInteractive('df-4ade37b9-69b7-47b5-9e36-78e32326c3d5')\"\n",
              "              title=\"Convert this dataframe to an interactive table.\"\n",
              "              style=\"display:none;\">\n",
              "\n",
              "  <svg xmlns=\"http://www.w3.org/2000/svg\" height=\"24px\"viewBox=\"0 0 24 24\"\n",
              "       width=\"24px\">\n",
              "    <path d=\"M0 0h24v24H0V0z\" fill=\"none\"/>\n",
              "    <path d=\"M18.56 5.44l.94 2.06.94-2.06 2.06-.94-2.06-.94-.94-2.06-.94 2.06-2.06.94zm-11 1L8.5 8.5l.94-2.06 2.06-.94-2.06-.94L8.5 2.5l-.94 2.06-2.06.94zm10 10l.94 2.06.94-2.06 2.06-.94-2.06-.94-.94-2.06-.94 2.06-2.06.94z\"/><path d=\"M17.41 7.96l-1.37-1.37c-.4-.4-.92-.59-1.43-.59-.52 0-1.04.2-1.43.59L10.3 9.45l-7.72 7.72c-.78.78-.78 2.05 0 2.83L4 21.41c.39.39.9.59 1.41.59.51 0 1.02-.2 1.41-.59l7.78-7.78 2.81-2.81c.8-.78.8-2.07 0-2.86zM5.41 20L4 18.59l7.72-7.72 1.47 1.35L5.41 20z\"/>\n",
              "  </svg>\n",
              "      </button>\n",
              "\n",
              "\n",
              "\n",
              "    <div id=\"df-b2914077-142e-40e2-a342-de019651dabd\">\n",
              "      <button class=\"colab-df-quickchart\" onclick=\"quickchart('df-b2914077-142e-40e2-a342-de019651dabd')\"\n",
              "              title=\"Suggest charts.\"\n",
              "              style=\"display:none;\">\n",
              "\n",
              "<svg xmlns=\"http://www.w3.org/2000/svg\" height=\"24px\"viewBox=\"0 0 24 24\"\n",
              "     width=\"24px\">\n",
              "    <g>\n",
              "        <path d=\"M19 3H5c-1.1 0-2 .9-2 2v14c0 1.1.9 2 2 2h14c1.1 0 2-.9 2-2V5c0-1.1-.9-2-2-2zM9 17H7v-7h2v7zm4 0h-2V7h2v10zm4 0h-2v-4h2v4z\"/>\n",
              "    </g>\n",
              "</svg>\n",
              "      </button>\n",
              "    </div>\n",
              "\n",
              "<style>\n",
              "  .colab-df-quickchart {\n",
              "    background-color: #E8F0FE;\n",
              "    border: none;\n",
              "    border-radius: 50%;\n",
              "    cursor: pointer;\n",
              "    display: none;\n",
              "    fill: #1967D2;\n",
              "    height: 32px;\n",
              "    padding: 0 0 0 0;\n",
              "    width: 32px;\n",
              "  }\n",
              "\n",
              "  .colab-df-quickchart:hover {\n",
              "    background-color: #E2EBFA;\n",
              "    box-shadow: 0px 1px 2px rgba(60, 64, 67, 0.3), 0px 1px 3px 1px rgba(60, 64, 67, 0.15);\n",
              "    fill: #174EA6;\n",
              "  }\n",
              "\n",
              "  [theme=dark] .colab-df-quickchart {\n",
              "    background-color: #3B4455;\n",
              "    fill: #D2E3FC;\n",
              "  }\n",
              "\n",
              "  [theme=dark] .colab-df-quickchart:hover {\n",
              "    background-color: #434B5C;\n",
              "    box-shadow: 0px 1px 3px 1px rgba(0, 0, 0, 0.15);\n",
              "    filter: drop-shadow(0px 1px 2px rgba(0, 0, 0, 0.3));\n",
              "    fill: #FFFFFF;\n",
              "  }\n",
              "</style>\n",
              "\n",
              "    <script>\n",
              "      async function quickchart(key) {\n",
              "        const containerElement = document.querySelector('#' + key);\n",
              "        const charts = await google.colab.kernel.invokeFunction(\n",
              "            'suggestCharts', [key], {});\n",
              "      }\n",
              "    </script>\n",
              "\n",
              "      <script>\n",
              "\n",
              "function displayQuickchartButton(domScope) {\n",
              "  let quickchartButtonEl =\n",
              "    domScope.querySelector('#df-b2914077-142e-40e2-a342-de019651dabd button.colab-df-quickchart');\n",
              "  quickchartButtonEl.style.display =\n",
              "    google.colab.kernel.accessAllowed ? 'block' : 'none';\n",
              "}\n",
              "\n",
              "        displayQuickchartButton(document);\n",
              "      </script>\n",
              "      <style>\n",
              "    .colab-df-container {\n",
              "      display:flex;\n",
              "      flex-wrap:wrap;\n",
              "      gap: 12px;\n",
              "    }\n",
              "\n",
              "    .colab-df-convert {\n",
              "      background-color: #E8F0FE;\n",
              "      border: none;\n",
              "      border-radius: 50%;\n",
              "      cursor: pointer;\n",
              "      display: none;\n",
              "      fill: #1967D2;\n",
              "      height: 32px;\n",
              "      padding: 0 0 0 0;\n",
              "      width: 32px;\n",
              "    }\n",
              "\n",
              "    .colab-df-convert:hover {\n",
              "      background-color: #E2EBFA;\n",
              "      box-shadow: 0px 1px 2px rgba(60, 64, 67, 0.3), 0px 1px 3px 1px rgba(60, 64, 67, 0.15);\n",
              "      fill: #174EA6;\n",
              "    }\n",
              "\n",
              "    [theme=dark] .colab-df-convert {\n",
              "      background-color: #3B4455;\n",
              "      fill: #D2E3FC;\n",
              "    }\n",
              "\n",
              "    [theme=dark] .colab-df-convert:hover {\n",
              "      background-color: #434B5C;\n",
              "      box-shadow: 0px 1px 3px 1px rgba(0, 0, 0, 0.15);\n",
              "      filter: drop-shadow(0px 1px 2px rgba(0, 0, 0, 0.3));\n",
              "      fill: #FFFFFF;\n",
              "    }\n",
              "  </style>\n",
              "\n",
              "      <script>\n",
              "        const buttonEl =\n",
              "          document.querySelector('#df-4ade37b9-69b7-47b5-9e36-78e32326c3d5 button.colab-df-convert');\n",
              "        buttonEl.style.display =\n",
              "          google.colab.kernel.accessAllowed ? 'block' : 'none';\n",
              "\n",
              "        async function convertToInteractive(key) {\n",
              "          const element = document.querySelector('#df-4ade37b9-69b7-47b5-9e36-78e32326c3d5');\n",
              "          const dataTable =\n",
              "            await google.colab.kernel.invokeFunction('convertToInteractive',\n",
              "                                                     [key], {});\n",
              "          if (!dataTable) return;\n",
              "\n",
              "          const docLinkHtml = 'Like what you see? Visit the ' +\n",
              "            '<a target=\"_blank\" href=https://colab.research.google.com/notebooks/data_table.ipynb>data table notebook</a>'\n",
              "            + ' to learn more about interactive tables.';\n",
              "          element.innerHTML = '';\n",
              "          dataTable['output_type'] = 'display_data';\n",
              "          await google.colab.output.renderOutput(dataTable, element);\n",
              "          const docLink = document.createElement('div');\n",
              "          docLink.innerHTML = docLinkHtml;\n",
              "          element.appendChild(docLink);\n",
              "        }\n",
              "      </script>\n",
              "    </div>\n",
              "  </div>\n"
            ]
          },
          "metadata": {},
          "execution_count": 4
        }
      ]
    },
    {
      "cell_type": "markdown",
      "source": [
        "# Linear regression\n",
        "\n",
        "My first model is a linear regression model that predicts Largest Mangitude feature given the Month, Latitude, Longitude and Year it occured."
      ],
      "metadata": {
        "id": "8kskL2KoEMDu"
      }
    },
    {
      "cell_type": "code",
      "source": [
        "x_cols = ['Month', 'Latitude', 'Longitude', 'Year']\n",
        "y_col = 'Largest Magnitude'\n",
        "\n",
        "# One-hot encoding for the Location column, which is a categorical variable\n",
        "df_encoded = pd.get_dummies(df, columns=['Location'], drop_first=True)\n",
        "\n",
        "X = df_encoded[x_cols].values\n",
        "y = df_encoded[y_col].values\n",
        "\n",
        "X_tr, X_te, y_tr, y_te = train_test_split(X, y, test_size=0.2)\n",
        "\n",
        "model = LinearRegression()\n",
        "model.fit(X_tr, y_tr)\n",
        "\n",
        "y_pred = model.predict(X_te)\n",
        "\n",
        "result = pd.DataFrame({'Actual': y_te, 'Predicted': y_pred})\n",
        "print(result)"
      ],
      "metadata": {
        "id": "tkfbreYtGctc",
        "outputId": "cd3525bf-a71b-4725-e58a-b2ff21666d00",
        "colab": {
          "base_uri": "https://localhost:8080/"
        }
      },
      "execution_count": 5,
      "outputs": [
        {
          "output_type": "stream",
          "name": "stdout",
          "text": [
            "      Actual  Predicted\n",
            "0        4.2   4.204346\n",
            "1        4.0   4.121826\n",
            "2        3.5   3.941287\n",
            "3        3.6   4.018099\n",
            "4        3.5   4.132494\n",
            "...      ...        ...\n",
            "3976     4.7   3.625222\n",
            "3977     4.2   3.619115\n",
            "3978     4.5   3.702069\n",
            "3979     3.9   4.435872\n",
            "3980     3.5   3.844840\n",
            "\n",
            "[3981 rows x 2 columns]\n"
          ]
        }
      ]
    },
    {
      "cell_type": "code",
      "source": [
        "# To visually understand the accuracy of the model\n",
        "plt.scatter(y_te, y_pred)\n",
        "plt.xlabel('Actual Magnitude')\n",
        "plt.ylabel('Predicted Magnitude')\n",
        "plt.title('Linear Regression: Actual vs. Predicted Magnitude')\n",
        "plt.show()"
      ],
      "metadata": {
        "colab": {
          "base_uri": "https://localhost:8080/",
          "height": 472
        },
        "id": "PxhWWx3h6Pv7",
        "outputId": "876e5352-8bb0-4023-aecf-7b1e301a3fea"
      },
      "execution_count": 6,
      "outputs": [
        {
          "output_type": "display_data",
          "data": {
            "text/plain": [
              "<Figure size 640x480 with 1 Axes>"
            ],
            "image/png": "[encoded data removed]"
          },
          "metadata": {}
        }
      ]
    },
    {
      "cell_type": "code",
      "source": [
        "from sklearn.metrics import mean_squared_error\n",
        "\n",
        "mse = mean_squared_error(y_te, y_pred)\n",
        "mse"
      ],
      "metadata": {
        "colab": {
          "base_uri": "https://localhost:8080/"
        },
        "id": "GgfJueRp52OU",
        "outputId": "e751604d-d560-424b-d523-0a78f1bb5e19"
      },
      "execution_count": 7,
      "outputs": [
        {
          "output_type": "execute_result",
          "data": {
            "text/plain": [
              "0.2203190040964851"
            ]
          },
          "metadata": {},
          "execution_count": 7
        }
      ]
    },
    {
      "cell_type": "markdown",
      "source": [
        "Based on the size of the dataset and scale of the target variable, I believe the model is underfitting, so I will add more features; specifically the Depth feature and the binary features indicating whether that magntiude is missing or not."
      ],
      "metadata": {
        "id": "XDmhDZPn6nak"
      }
    },
    {
      "cell_type": "code",
      "source": [
        "x_cols2 = ['Month', 'Latitude', 'Longitude', 'Year', 'Depth', 'Missing MD', 'Missing ML', 'Missing MM', 'Missing MSW', 'Missing MBW']\n",
        "y_col2 = 'Largest Magnitude'\n",
        "\n",
        "\n",
        "X = df_encoded[x_cols2].values\n",
        "y = df_encoded[y_col2].values\n",
        "\n",
        "X_tr, X_te, y_tr, y_te = train_test_split(X, y, test_size=0.2)\n",
        "\n",
        "\n",
        "model = LinearRegression()\n",
        "model.fit(X_tr, y_tr)\n",
        "\n",
        "\n",
        "y_pred = model.predict(X_te)\n",
        "\n",
        "result = pd.DataFrame({'Actual': y_te, 'Predicted': y_pred})\n",
        "print(result)\n"
      ],
      "metadata": {
        "colab": {
          "base_uri": "https://localhost:8080/"
        },
        "id": "uNCuiRrP60u8",
        "outputId": "fd99fecb-20ec-43cb-c897-18f35c991a27"
      },
      "execution_count": 8,
      "outputs": [
        {
          "output_type": "stream",
          "name": "stdout",
          "text": [
            "      Actual  Predicted\n",
            "0        5.2   3.945429\n",
            "1        4.0   3.961185\n",
            "2        3.5   3.730823\n",
            "3        5.4   5.053497\n",
            "4        3.6   4.033167\n",
            "...      ...        ...\n",
            "3976     3.7   3.715391\n",
            "3977     4.2   4.028608\n",
            "3978     3.7   3.779938\n",
            "3979     3.5   3.787307\n",
            "3980     3.7   3.786340\n",
            "\n",
            "[3981 rows x 2 columns]\n"
          ]
        }
      ]
    },
    {
      "cell_type": "code",
      "source": [
        "plt.scatter(y_te, y_pred)\n",
        "plt.xlabel('Actual Magnitude')\n",
        "plt.ylabel('Predicted Magnitude')\n",
        "plt.title('Linear Regression: Actual vs. Predicted Magnitude')\n",
        "plt.show()"
      ],
      "metadata": {
        "colab": {
          "base_uri": "https://localhost:8080/",
          "height": 472
        },
        "id": "pxP4-h5OlfM-",
        "outputId": "5cf0a503-c5e7-43e8-c2fb-4fa03103b52d"
      },
      "execution_count": 9,
      "outputs": [
        {
          "output_type": "display_data",
          "data": {
            "text/plain": [
              "<Figure size 640x480 with 1 Axes>"
            ],
            "image/png": "[encoded data removed]"
          },
          "metadata": {}
        }
      ]
    },
    {
      "cell_type": "code",
      "source": [
        "mse = mean_squared_error(y_te, y_pred)\n",
        "mse"
      ],
      "metadata": {
        "colab": {
          "base_uri": "https://localhost:8080/"
        },
        "id": "jXWvUkFfliUm",
        "outputId": "c90241ff-1d54-4ccc-a69c-0311fe96d881"
      },
      "execution_count": 10,
      "outputs": [
        {
          "output_type": "execute_result",
          "data": {
            "text/plain": [
              "0.15086255658150166"
            ]
          },
          "metadata": {},
          "execution_count": 10
        }
      ]
    },
    {
      "cell_type": "markdown",
      "source": [
        "As we, adding in the 'Depth' parameter as well as the paramters representing where certain magntiude measurements are missing improved accuracy of the model."
      ],
      "metadata": {
        "id": "Ix1P8KnnllqW"
      }
    },
    {
      "cell_type": "markdown",
      "source": [
        "# Classifying Earthqaukes using Random Forest Classifier\n",
        "We'll be starting with the Year, Month, Latitude, Longitude, and Depth features as inputs to catgorize earthqaukes' Largest Magnitude. I have split up mangitude into 3 categories: High, Medium and Low. High has a magnitude greater than 5.0, Medium is between 4.0 and 5.0, and Low is less than 4.0. This is based on the distribution of the Largest Magnitudes of the earthqaukes in the datatset.\n",
        "\n"
      ],
      "metadata": {
        "id": "BlItqO6Smo5m"
      }
    },
    {
      "cell_type": "code",
      "source": [
        "x_cols3 = ['Year', 'Month', 'Latitude', 'Longitude', 'Depth']\n",
        "y_col3 = 'Largest Magnitude'\n",
        "\n",
        "\n",
        "X = df_encoded[x_cols3].values\n",
        "y = df_encoded[y_col3].values\n",
        "\n",
        "# Mapping earthquake Largest Magnitude to three levels: High, Medium, Low\n",
        "def map_magnitude_to_level(magnitude):\n",
        "    if magnitude >= 5.0:\n",
        "        return 'High'\n",
        "    elif magnitude >= 4.0:\n",
        "        return 'Medium'\n",
        "    else:\n",
        "        return 'Low'\n",
        "\n",
        "y_categorical = [map_magnitude_to_level(magnitude) for magnitude in y]\n",
        "\n",
        "\n",
        "X_tr, X_te, y_tr, y_te = train_test_split(X, y_categorical, test_size=0.2)\n",
        "\n",
        "\n",
        "model = RandomForestClassifier()\n",
        "model.fit(X_tr, y_tr)\n",
        "\n",
        "\n",
        "y_pred = model.predict(X_te)\n",
        "\n",
        "\n",
        "accuracy = accuracy_score(y_te, y_pred)\n",
        "\n",
        "print(\"Accuracy:\", accuracy)\n"
      ],
      "metadata": {
        "colab": {
          "base_uri": "https://localhost:8080/"
        },
        "id": "rKaor3Q-n4jn",
        "outputId": "52bad0a9-a652-443c-96f4-aa19062c5ded"
      },
      "execution_count": 12,
      "outputs": [
        {
          "output_type": "stream",
          "name": "stdout",
          "text": [
            "Accuracy: 0.7035920622959055\n"
          ]
        }
      ]
    },
    {
      "cell_type": "markdown",
      "source": [
        "I will now add the binary Missing Magnitude features to the model to attempt to improve the accuracy."
      ],
      "metadata": {
        "id": "C32JL5i0woC_"
      }
    },
    {
      "cell_type": "code",
      "source": [
        "x_cols4 = ['Year', 'Month', 'Latitude', 'Longitude', 'Depth',\n",
        "                    'Missing MD', 'Missing ML', 'Missing MM', 'Missing MSW', 'Missing MBW']\n",
        "y_col4 = 'Largest Magnitude'\n",
        "\n",
        "\n",
        "# Split the data into features and target\n",
        "X = df_encoded[x_cols4].values\n",
        "y = df_encoded[y_col4].values\n",
        "\n",
        "\n",
        "X_tr, X_te, y_tr, y_te = train_test_split(X, y_categorical, test_size=0.2)\n",
        "\n",
        "model = RandomForestClassifier()\n",
        "model.fit(X_tr, y_tr)\n",
        "\n",
        "y_pred = model.predict(X_te)\n",
        "\n",
        "\n",
        "accuracy = accuracy_score(y_te, y_pred)\n",
        "\n",
        "print(\"Accuracy:\", accuracy)"
      ],
      "metadata": {
        "colab": {
          "base_uri": "https://localhost:8080/"
        },
        "id": "An8t2LNHoEoD",
        "outputId": "d9719a0d-02e6-4eeb-ade0-9ba163fa1fa9"
      },
      "execution_count": 13,
      "outputs": [
        {
          "output_type": "stream",
          "name": "stdout",
          "text": [
            "Accuracy: 0.7488068324541572\n"
          ]
        }
      ]
    },
    {
      "cell_type": "markdown",
      "source": [
        "Adding the Missing Magnitude features improved the accuracy of the model by approximately 4%. While the accuracy is not ideal, this is the maximum amount of features I can add to the model. If I were to add the Magnitude features, of which the target varibale Largest Madnitude is the largest of for that data point, that would raise issues of multicollinearity and skew the results."
      ],
      "metadata": {
        "id": "a03-83XeqeN7"
      }
    }
  ]
}