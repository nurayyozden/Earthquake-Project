{
  "nbformat": 4,
  "nbformat_minor": 0,
  "metadata": {
    "colab": {
      "provenance": [],
      "mount_file_id": "1JgH_bEr5qJIQIg8B0OVMI-fkrjhn--qX",
      "authorship_tag": "ABX9TyMnmJnUWC9auUXhVHLn4QuU",
      "include_colab_link": true
    },
    "kernelspec": {
      "name": "python3",
      "display_name": "Python 3"
    },
    "language_info": {
      "name": "python"
    }
  },
  "cells": [
    {
      "cell_type": "markdown",
      "metadata": {
        "id": "view-in-github",
        "colab_type": "text"
      },
      "source": [
        "<a href=\"https://colab.research.google.com/github/nurayyozden/Earthquake-Project/blob/main/P3.ipynb\" target=\"_parent\"><img src=\"https://colab.research.google.com/assets/colab-badge.svg\" alt=\"Open In Colab\"/></a>"
      ]
    },
    {
      "cell_type": "code",
      "source": [
        "import pandas as pd\n",
        "import numpy as np\n",
        "import matplotlib.pyplot as plt\n",
        "import seaborn as sns\n",
        "\n",
        "from sklearn.ensemble import RandomForestClassifier\n",
        "from sklearn.model_selection import train_test_split\n",
        "from sklearn.metrics import accuracy_score, precision_score, recall_score, f1_score, classification_report\n",
        "\n",
        "from sklearn.linear_model import LinearRegression"
      ],
      "metadata": {
        "id": "YJk7Bhnw-csd"
      },
      "execution_count": 1,
      "outputs": []
    },
    {
      "cell_type": "code",
      "source": [
        "# to only read the non-hidden columns\n",
        "cols = ['Date', 'Year', 'Month', 'Occurance Time', 'Datetime', 'Latitude', 'Longitude', 'Depth', 'Largest Magnitude', 'Magnitude Duration', 'Magnitude Local',\n",
        "        'Magnitude Moment', 'Magnitude Surface Wave', 'Magnitude Body Wave', 'Location', 'Missing MD', 'Missing ML', 'Missing MM', 'Missing MSW', 'Missing MBW']\n",
        "\n",
        "\n",
        "df = pd.read_excel(\"/content/drive/My Drive/BIG GIRL NUNI/project1_turkey.xlsx\", usecols = cols)"
      ],
      "metadata": {
        "id": "f4-38yx8-Wvc"
      },
      "execution_count": 6,
      "outputs": []
    },
    {
      "cell_type": "code",
      "source": [
        "# deleting the rows with corrupted data\n",
        "df = df.drop([6786, 16597, 19907])"
      ],
      "metadata": {
        "id": "VBivKq0O6mIs"
      },
      "execution_count": 8,
      "outputs": []
    },
    {
      "cell_type": "code",
      "source": [
        "df.head()"
      ],
      "metadata": {
        "colab": {
          "base_uri": "https://localhost:8080/",
          "height": 478
        },
        "id": "ZNWF_XGJ-VLR",
        "outputId": "4210850f-a7cc-4a18-d555-098ba200e31e"
      },
      "execution_count": 35,
      "outputs": [
        {
          "output_type": "execute_result",
          "data": {
            "text/plain": [
              "                      Date  Year Month   Occurance Time  \\\n",
              "19902  1915-09-23 00:00:00  1915     9         07:20:01   \n",
              "19903  1915-05-19 00:00:00  1915     5  04:48:02.400000   \n",
              "19904  1915-04-01 00:00:00  1915     4         05:41:05   \n",
              "19905  1915-02-28 00:00:00  1915     2  12:47:02.400000   \n",
              "19906  1915-02-14 00:00:00  1915     2  08:20:00.600000   \n",
              "\n",
              "                         Datetime  Latitude  Longitude  Depth  \\\n",
              "19902  1915-09-23 07:20:00.989000     40.00      43.00   15.0   \n",
              "19903  1915-05-19 04:48:02.419000     37.62      39.47   10.0   \n",
              "19904  1915-04-01 05:41:04.963000     40.50      44.50   35.0   \n",
              "19905  1915-02-28 12:47:02.429000     37.70      43.10   30.0   \n",
              "19906  1915-02-14 08:20:00.586000     38.80      42.50   30.0   \n",
              "\n",
              "       Largest Magnitude  Magnitude Duration  Magnitude Local  \\\n",
              "19902                4.4                 4.4              5.1   \n",
              "19903                5.5                 5.3              0.0   \n",
              "19904                4.9                 4.8              5.3   \n",
              "19905                5.5                 5.2              4.8   \n",
              "19906                5.7                 5.4              5.2   \n",
              "\n",
              "       Magnitude Moment  Magnitude Surface Wave  Magnitude Body Wave  \\\n",
              "19902               NaN                     0.0                  0.0   \n",
              "19903               5.5                     5.4                  5.3   \n",
              "19904               4.9                     4.8                  4.9   \n",
              "19905               5.5                     5.3                  5.2   \n",
              "19906               5.7                     5.6                  5.4   \n",
              "\n",
              "         Location  Missing MD  Missing ML  Missing MM  Missing MSW  \\\n",
              "19902        KARS           0         0.0           1            1   \n",
              "19903   SANLIURFA           0         1.0           0            0   \n",
              "19904  AZERBAYCAN           0         0.0           0            0   \n",
              "19905      SIRNAK           0         0.0           0            0   \n",
              "19906      BITLIS           0         0.0           0            0   \n",
              "\n",
              "       Missing MBW  \n",
              "19902            1  \n",
              "19903            0  \n",
              "19904            0  \n",
              "19905            0  \n",
              "19906            0  "
            ],
            "text/html": [
              "\n",
              "\n",
              "  <div id=\"df-2d9813eb-cc81-4b12-89d7-52b9a4afe482\">\n",
              "    <div class=\"colab-df-container\">\n",
              "      <div>\n",
              "<style scoped>\n",
              "    .dataframe tbody tr th:only-of-type {\n",
              "        vertical-align: middle;\n",
              "    }\n",
              "\n",
              "    .dataframe tbody tr th {\n",
              "        vertical-align: top;\n",
              "    }\n",
              "\n",
              "    .dataframe thead th {\n",
              "        text-align: right;\n",
              "    }\n",
              "</style>\n",
              "<table border=\"1\" class=\"dataframe\">\n",
              "  <thead>\n",
              "    <tr style=\"text-align: right;\">\n",
              "      <th></th>\n",
              "      <th>Date</th>\n",
              "      <th>Year</th>\n",
              "      <th>Month</th>\n",
              "      <th>Occurance Time</th>\n",
              "      <th>Datetime</th>\n",
              "      <th>Latitude</th>\n",
              "      <th>Longitude</th>\n",
              "      <th>Depth</th>\n",
              "      <th>Largest Magnitude</th>\n",
              "      <th>Magnitude Duration</th>\n",
              "      <th>Magnitude Local</th>\n",
              "      <th>Magnitude Moment</th>\n",
              "      <th>Magnitude Surface Wave</th>\n",
              "      <th>Magnitude Body Wave</th>\n",
              "      <th>Location</th>\n",
              "      <th>Missing MD</th>\n",
              "      <th>Missing ML</th>\n",
              "      <th>Missing MM</th>\n",
              "      <th>Missing MSW</th>\n",
              "      <th>Missing MBW</th>\n",
              "    </tr>\n",
              "  </thead>\n",
              "  <tbody>\n",
              "    <tr>\n",
              "      <th>19902</th>\n",
              "      <td>1915-09-23 00:00:00</td>\n",
              "      <td>1915</td>\n",
              "      <td>9</td>\n",
              "      <td>07:20:01</td>\n",
              "      <td>1915-09-23 07:20:00.989000</td>\n",
              "      <td>40.00</td>\n",
              "      <td>43.00</td>\n",
              "      <td>15.0</td>\n",
              "      <td>4.4</td>\n",
              "      <td>4.4</td>\n",
              "      <td>5.1</td>\n",
              "      <td>NaN</td>\n",
              "      <td>0.0</td>\n",
              "      <td>0.0</td>\n",
              "      <td>KARS</td>\n",
              "      <td>0</td>\n",
              "      <td>0.0</td>\n",
              "      <td>1</td>\n",
              "      <td>1</td>\n",
              "      <td>1</td>\n",
              "    </tr>\n",
              "    <tr>\n",
              "      <th>19903</th>\n",
              "      <td>1915-05-19 00:00:00</td>\n",
              "      <td>1915</td>\n",
              "      <td>5</td>\n",
              "      <td>04:48:02.400000</td>\n",
              "      <td>1915-05-19 04:48:02.419000</td>\n",
              "      <td>37.62</td>\n",
              "      <td>39.47</td>\n",
              "      <td>10.0</td>\n",
              "      <td>5.5</td>\n",
              "      <td>5.3</td>\n",
              "      <td>0.0</td>\n",
              "      <td>5.5</td>\n",
              "      <td>5.4</td>\n",
              "      <td>5.3</td>\n",
              "      <td>SANLIURFA</td>\n",
              "      <td>0</td>\n",
              "      <td>1.0</td>\n",
              "      <td>0</td>\n",
              "      <td>0</td>\n",
              "      <td>0</td>\n",
              "    </tr>\n",
              "    <tr>\n",
              "      <th>19904</th>\n",
              "      <td>1915-04-01 00:00:00</td>\n",
              "      <td>1915</td>\n",
              "      <td>4</td>\n",
              "      <td>05:41:05</td>\n",
              "      <td>1915-04-01 05:41:04.963000</td>\n",
              "      <td>40.50</td>\n",
              "      <td>44.50</td>\n",
              "      <td>35.0</td>\n",
              "      <td>4.9</td>\n",
              "      <td>4.8</td>\n",
              "      <td>5.3</td>\n",
              "      <td>4.9</td>\n",
              "      <td>4.8</td>\n",
              "      <td>4.9</td>\n",
              "      <td>AZERBAYCAN</td>\n",
              "      <td>0</td>\n",
              "      <td>0.0</td>\n",
              "      <td>0</td>\n",
              "      <td>0</td>\n",
              "      <td>0</td>\n",
              "    </tr>\n",
              "    <tr>\n",
              "      <th>19905</th>\n",
              "      <td>1915-02-28 00:00:00</td>\n",
              "      <td>1915</td>\n",
              "      <td>2</td>\n",
              "      <td>12:47:02.400000</td>\n",
              "      <td>1915-02-28 12:47:02.429000</td>\n",
              "      <td>37.70</td>\n",
              "      <td>43.10</td>\n",
              "      <td>30.0</td>\n",
              "      <td>5.5</td>\n",
              "      <td>5.2</td>\n",
              "      <td>4.8</td>\n",
              "      <td>5.5</td>\n",
              "      <td>5.3</td>\n",
              "      <td>5.2</td>\n",
              "      <td>SIRNAK</td>\n",
              "      <td>0</td>\n",
              "      <td>0.0</td>\n",
              "      <td>0</td>\n",
              "      <td>0</td>\n",
              "      <td>0</td>\n",
              "    </tr>\n",
              "    <tr>\n",
              "      <th>19906</th>\n",
              "      <td>1915-02-14 00:00:00</td>\n",
              "      <td>1915</td>\n",
              "      <td>2</td>\n",
              "      <td>08:20:00.600000</td>\n",
              "      <td>1915-02-14 08:20:00.586000</td>\n",
              "      <td>38.80</td>\n",
              "      <td>42.50</td>\n",
              "      <td>30.0</td>\n",
              "      <td>5.7</td>\n",
              "      <td>5.4</td>\n",
              "      <td>5.2</td>\n",
              "      <td>5.7</td>\n",
              "      <td>5.6</td>\n",
              "      <td>5.4</td>\n",
              "      <td>BITLIS</td>\n",
              "      <td>0</td>\n",
              "      <td>0.0</td>\n",
              "      <td>0</td>\n",
              "      <td>0</td>\n",
              "      <td>0</td>\n",
              "    </tr>\n",
              "  </tbody>\n",
              "</table>\n",
              "</div>\n",
              "      <button class=\"colab-df-convert\" onclick=\"convertToInteractive('df-2d9813eb-cc81-4b12-89d7-52b9a4afe482')\"\n",
              "              title=\"Convert this dataframe to an interactive table.\"\n",
              "              style=\"display:none;\">\n",
              "\n",
              "  <svg xmlns=\"http://www.w3.org/2000/svg\" height=\"24px\"viewBox=\"0 0 24 24\"\n",
              "       width=\"24px\">\n",
              "    <path d=\"M0 0h24v24H0V0z\" fill=\"none\"/>\n",
              "    <path d=\"M18.56 5.44l.94 2.06.94-2.06 2.06-.94-2.06-.94-.94-2.06-.94 2.06-2.06.94zm-11 1L8.5 8.5l.94-2.06 2.06-.94-2.06-.94L8.5 2.5l-.94 2.06-2.06.94zm10 10l.94 2.06.94-2.06 2.06-.94-2.06-.94-.94-2.06-.94 2.06-2.06.94z\"/><path d=\"M17.41 7.96l-1.37-1.37c-.4-.4-.92-.59-1.43-.59-.52 0-1.04.2-1.43.59L10.3 9.45l-7.72 7.72c-.78.78-.78 2.05 0 2.83L4 21.41c.39.39.9.59 1.41.59.51 0 1.02-.2 1.41-.59l7.78-7.78 2.81-2.81c.8-.78.8-2.07 0-2.86zM5.41 20L4 18.59l7.72-7.72 1.47 1.35L5.41 20z\"/>\n",
              "  </svg>\n",
              "      </button>\n",
              "\n",
              "\n",
              "\n",
              "    <div id=\"df-619672bf-36c5-4eeb-89d4-972baafe868c\">\n",
              "      <button class=\"colab-df-quickchart\" onclick=\"quickchart('df-619672bf-36c5-4eeb-89d4-972baafe868c')\"\n",
              "              title=\"Suggest charts.\"\n",
              "              style=\"display:none;\">\n",
              "\n",
              "<svg xmlns=\"http://www.w3.org/2000/svg\" height=\"24px\"viewBox=\"0 0 24 24\"\n",
              "     width=\"24px\">\n",
              "    <g>\n",
              "        <path d=\"M19 3H5c-1.1 0-2 .9-2 2v14c0 1.1.9 2 2 2h14c1.1 0 2-.9 2-2V5c0-1.1-.9-2-2-2zM9 17H7v-7h2v7zm4 0h-2V7h2v10zm4 0h-2v-4h2v4z\"/>\n",
              "    </g>\n",
              "</svg>\n",
              "      </button>\n",
              "    </div>\n",
              "\n",
              "<style>\n",
              "  .colab-df-quickchart {\n",
              "    background-color: #E8F0FE;\n",
              "    border: none;\n",
              "    border-radius: 50%;\n",
              "    cursor: pointer;\n",
              "    display: none;\n",
              "    fill: #1967D2;\n",
              "    height: 32px;\n",
              "    padding: 0 0 0 0;\n",
              "    width: 32px;\n",
              "  }\n",
              "\n",
              "  .colab-df-quickchart:hover {\n",
              "    background-color: #E2EBFA;\n",
              "    box-shadow: 0px 1px 2px rgba(60, 64, 67, 0.3), 0px 1px 3px 1px rgba(60, 64, 67, 0.15);\n",
              "    fill: #174EA6;\n",
              "  }\n",
              "\n",
              "  [theme=dark] .colab-df-quickchart {\n",
              "    background-color: #3B4455;\n",
              "    fill: #D2E3FC;\n",
              "  }\n",
              "\n",
              "  [theme=dark] .colab-df-quickchart:hover {\n",
              "    background-color: #434B5C;\n",
              "    box-shadow: 0px 1px 3px 1px rgba(0, 0, 0, 0.15);\n",
              "    filter: drop-shadow(0px 1px 2px rgba(0, 0, 0, 0.3));\n",
              "    fill: #FFFFFF;\n",
              "  }\n",
              "</style>\n",
              "\n",
              "    <script>\n",
              "      async function quickchart(key) {\n",
              "        const containerElement = document.querySelector('#' + key);\n",
              "        const charts = await google.colab.kernel.invokeFunction(\n",
              "            'suggestCharts', [key], {});\n",
              "      }\n",
              "    </script>\n",
              "\n",
              "      <script>\n",
              "\n",
              "function displayQuickchartButton(domScope) {\n",
              "  let quickchartButtonEl =\n",
              "    domScope.querySelector('#df-619672bf-36c5-4eeb-89d4-972baafe868c button.colab-df-quickchart');\n",
              "  quickchartButtonEl.style.display =\n",
              "    google.colab.kernel.accessAllowed ? 'block' : 'none';\n",
              "}\n",
              "\n",
              "        displayQuickchartButton(document);\n",
              "      </script>\n",
              "      <style>\n",
              "    .colab-df-container {\n",
              "      display:flex;\n",
              "      flex-wrap:wrap;\n",
              "      gap: 12px;\n",
              "    }\n",
              "\n",
              "    .colab-df-convert {\n",
              "      background-color: #E8F0FE;\n",
              "      border: none;\n",
              "      border-radius: 50%;\n",
              "      cursor: pointer;\n",
              "      display: none;\n",
              "      fill: #1967D2;\n",
              "      height: 32px;\n",
              "      padding: 0 0 0 0;\n",
              "      width: 32px;\n",
              "    }\n",
              "\n",
              "    .colab-df-convert:hover {\n",
              "      background-color: #E2EBFA;\n",
              "      box-shadow: 0px 1px 2px rgba(60, 64, 67, 0.3), 0px 1px 3px 1px rgba(60, 64, 67, 0.15);\n",
              "      fill: #174EA6;\n",
              "    }\n",
              "\n",
              "    [theme=dark] .colab-df-convert {\n",
              "      background-color: #3B4455;\n",
              "      fill: #D2E3FC;\n",
              "    }\n",
              "\n",
              "    [theme=dark] .colab-df-convert:hover {\n",
              "      background-color: #434B5C;\n",
              "      box-shadow: 0px 1px 3px 1px rgba(0, 0, 0, 0.15);\n",
              "      filter: drop-shadow(0px 1px 2px rgba(0, 0, 0, 0.3));\n",
              "      fill: #FFFFFF;\n",
              "    }\n",
              "  </style>\n",
              "\n",
              "      <script>\n",
              "        const buttonEl =\n",
              "          document.querySelector('#df-2d9813eb-cc81-4b12-89d7-52b9a4afe482 button.colab-df-convert');\n",
              "        buttonEl.style.display =\n",
              "          google.colab.kernel.accessAllowed ? 'block' : 'none';\n",
              "\n",
              "        async function convertToInteractive(key) {\n",
              "          const element = document.querySelector('#df-2d9813eb-cc81-4b12-89d7-52b9a4afe482');\n",
              "          const dataTable =\n",
              "            await google.colab.kernel.invokeFunction('convertToInteractive',\n",
              "                                                     [key], {});\n",
              "          if (!dataTable) return;\n",
              "\n",
              "          const docLinkHtml = 'Like what you see? Visit the ' +\n",
              "            '<a target=\"_blank\" href=https://colab.research.google.com/notebooks/data_table.ipynb>data table notebook</a>'\n",
              "            + ' to learn more about interactive tables.';\n",
              "          element.innerHTML = '';\n",
              "          dataTable['output_type'] = 'display_data';\n",
              "          await google.colab.output.renderOutput(dataTable, element);\n",
              "          const docLink = document.createElement('div');\n",
              "          docLink.innerHTML = docLinkHtml;\n",
              "          element.appendChild(docLink);\n",
              "        }\n",
              "      </script>\n",
              "    </div>\n",
              "  </div>\n"
            ]
          },
          "metadata": {},
          "execution_count": 35
        }
      ]
    },
    {
      "cell_type": "markdown",
      "source": [
        "# Linear regression\n",
        "\n",
        "My first model is a linear regression model that predicts Largest Mangitude feature given the Month, Latitude, Longitude and Year it occured."
      ],
      "metadata": {
        "id": "8kskL2KoEMDu"
      }
    },
    {
      "cell_type": "code",
      "source": [
        "x_cols = ['Month', 'Latitude', 'Longitude', 'Year']\n",
        "y_col = 'Largest Magnitude'\n",
        "\n",
        "# One-hot encoding for the Location column, which is a categorical variable\n",
        "df_encoded = pd.get_dummies(df, columns=['Location'], drop_first=True)\n",
        "\n",
        "X = df_encoded[x_cols].values\n",
        "y = df_encoded[y_col].values\n",
        "\n",
        "X_tr, X_te, y_tr, y_te = train_test_split(X, y, test_size=0.2)\n",
        "\n",
        "model = LinearRegression()\n",
        "model.fit(X_tr, y_tr)\n",
        "\n",
        "y_pred = model.predict(X_te)\n",
        "\n",
        "result = pd.DataFrame({'Actual': y_te, 'Predicted': y_pred})\n",
        "print(result)"
      ],
      "metadata": {
        "id": "tkfbreYtGctc",
        "outputId": "6d7a7155-eab6-4c24-88bc-e8bb71d5b3be",
        "colab": {
          "base_uri": "https://localhost:8080/"
        }
      },
      "execution_count": 20,
      "outputs": [
        {
          "output_type": "stream",
          "name": "stdout",
          "text": [
            "      Actual  Predicted\n",
            "0        3.5   3.926628\n",
            "1        3.6   3.963826\n",
            "2        3.5   3.889535\n",
            "3        3.6   4.212816\n",
            "4        4.7   4.330259\n",
            "...      ...        ...\n",
            "3976     3.5   4.053897\n",
            "3977     3.7   4.077293\n",
            "3978     4.3   3.701494\n",
            "3979     3.5   3.875924\n",
            "3980     3.5   4.119206\n",
            "\n",
            "[3981 rows x 2 columns]\n"
          ]
        }
      ]
    },
    {
      "cell_type": "code",
      "source": [
        "# To visually understand the accuracy of the model\n",
        "plt.scatter(y_te, y_pred)\n",
        "plt.xlabel('Actual Magnitude')\n",
        "plt.ylabel('Predicted Magnitude')\n",
        "plt.title('Linear Regression: Actual vs. Predicted Magnitude')\n",
        "plt.show()"
      ],
      "metadata": {
        "colab": {
          "base_uri": "https://localhost:8080/",
          "height": 472
        },
        "id": "PxhWWx3h6Pv7",
        "outputId": "f7a66039-0ceb-4e60-c828-8c90d1a1c87e"
      },
      "execution_count": 21,
      "outputs": [
        {
          "output_type": "display_data",
          "data": {
            "text/plain": [
              "<Figure size 640x480 with 1 Axes>"
            ],
            "image/png": "[encoded data removed]"
          },
          "metadata": {}
        }
      ]
    },
    {
      "cell_type": "code",
      "source": [
        "from sklearn.metrics import mean_squared_error\n",
        "\n",
        "mse = mean_squared_error(y_te, y_pred)\n",
        "mse"
      ],
      "metadata": {
        "colab": {
          "base_uri": "https://localhost:8080/"
        },
        "id": "GgfJueRp52OU",
        "outputId": "2fe16cf2-1730-48ed-9e7a-f69ab728158c"
      },
      "execution_count": 22,
      "outputs": [
        {
          "output_type": "execute_result",
          "data": {
            "text/plain": [
              "0.21216696964831375"
            ]
          },
          "metadata": {},
          "execution_count": 22
        }
      ]
    },
    {
      "cell_type": "markdown",
      "source": [
        "Based on the size of the dataset and scale of the target variable, I believe the model is underfitting, so I will add more features; specifically the Depth feature and the binary features indicating whether that magntiude is missing or not."
      ],
      "metadata": {
        "id": "XDmhDZPn6nak"
      }
    },
    {
      "cell_type": "code",
      "source": [
        "x_cols2 = ['Month', 'Latitude', 'Longitude', 'Year', 'Depth', 'Missing MD', 'Missing ML', 'Missing MM', 'Missing MSW', 'Missing MBW']\n",
        "y_col2 = 'Largest Magnitude'\n",
        "\n",
        "\n",
        "X = df_encoded[x_cols2].values\n",
        "y = df_encoded[y_col2].values\n",
        "\n",
        "X_tr, X_te, y_tr, y_te = train_test_split(X, y, test_size=0.2)\n",
        "\n",
        "\n",
        "model = LinearRegression()\n",
        "model.fit(X_tr, y_tr)\n",
        "\n",
        "\n",
        "y_pred = model.predict(X_te)\n",
        "\n",
        "result = pd.DataFrame({'Actual': y_te, 'Predicted': y_pred})\n",
        "print(result)\n"
      ],
      "metadata": {
        "colab": {
          "base_uri": "https://localhost:8080/"
        },
        "id": "uNCuiRrP60u8",
        "outputId": "b8a6daee-3718-4e87-f307-84d1c699409e"
      },
      "execution_count": 23,
      "outputs": [
        {
          "output_type": "stream",
          "name": "stdout",
          "text": [
            "      Actual  Predicted\n",
            "0        3.5   3.689845\n",
            "1        3.6   3.887182\n",
            "2        3.5   3.683890\n",
            "3        3.6   4.069363\n",
            "4        4.7   3.862363\n",
            "...      ...        ...\n",
            "3976     3.5   3.708084\n",
            "3977     3.7   3.762388\n",
            "3978     4.3   3.917481\n",
            "3979     3.5   3.679126\n",
            "3980     3.5   4.062836\n",
            "\n",
            "[3981 rows x 2 columns]\n"
          ]
        }
      ]
    },
    {
      "cell_type": "code",
      "source": [
        "plt.scatter(y_te, y_pred)\n",
        "plt.xlabel('Actual Magnitude')\n",
        "plt.ylabel('Predicted Magnitude')\n",
        "plt.title('Linear Regression: Actual vs. Predicted Magnitude')\n",
        "plt.show()"
      ],
      "metadata": {
        "colab": {
          "base_uri": "https://localhost:8080/",
          "height": 472
        },
        "id": "pxP4-h5OlfM-",
        "outputId": "dbd9350c-4fc5-42c3-d271-e71c56ce3e62"
      },
      "execution_count": 24,
      "outputs": [
        {
          "output_type": "display_data",
          "data": {
            "text/plain": [
              "<Figure size 640x480 with 1 Axes>"
            ],
            "image/png": "[encoded data removed]"
          },
          "metadata": {}
        }
      ]
    },
    {
      "cell_type": "code",
      "source": [
        "mse = mean_squared_error(y_te, y_pred)\n",
        "mse"
      ],
      "metadata": {
        "colab": {
          "base_uri": "https://localhost:8080/"
        },
        "id": "jXWvUkFfliUm",
        "outputId": "278087e4-e4c0-4be3-b56a-2f10b8e659d0"
      },
      "execution_count": 25,
      "outputs": [
        {
          "output_type": "execute_result",
          "data": {
            "text/plain": [
              "0.1441749387633291"
            ]
          },
          "metadata": {},
          "execution_count": 25
        }
      ]
    },
    {
      "cell_type": "markdown",
      "source": [
        "As we, adding in the 'Depth' parameter as well as the paramters representing where certain magntiude measurements are missing improved accuracy of the model."
      ],
      "metadata": {
        "id": "Ix1P8KnnllqW"
      }
    },
    {
      "cell_type": "markdown",
      "source": [
        "# Classifying Earthqaukes using Random Forest Classifier\n",
        "We'll be starting with the Year, Month, Latitude, Longitude, and Depth features as inputs to catgorize earthqaukes' Largest Magnitude. I have split up mangitude into 3 categories: High, Medium and Low. High has a magnitude greater than 5.0, Medium is between 4.0 and 5.0, and Low is less than 4.0. This is based on the distribution of the Largest Magnitudes of the earthqaukes in the datatset.\n",
        "\n"
      ],
      "metadata": {
        "id": "BlItqO6Smo5m"
      }
    },
    {
      "cell_type": "code",
      "source": [
        "x_cols3 = ['Year', 'Month', 'Latitude', 'Longitude', 'Depth']\n",
        "y_col3 = 'Largest Magnitude'\n",
        "\n",
        "\n",
        "X = df_encoded[x_cols3].values\n",
        "y = df_encoded[y_col3].values\n",
        "\n",
        "# Mapping earthquake Largest Magnitude to three levels: High, Medium, Low\n",
        "def map_magnitude_to_level(magnitude):\n",
        "    if magnitude >= 5.0:\n",
        "        return 'High'\n",
        "    elif magnitude >= 4.0:\n",
        "        return 'Medium'\n",
        "    else:\n",
        "        return 'Low'\n",
        "\n",
        "y_categorical = [map_magnitude_to_level(magnitude) for magnitude in y]\n",
        "\n",
        "\n",
        "X_tr, X_te, y_tr, y_te = train_test_split(X, y_categorical, test_size=0.2)\n",
        "\n",
        "\n",
        "model = RandomForestClassifier()\n",
        "model.fit(X_tr, y_tr)\n",
        "\n",
        "\n",
        "y_pred = model.predict(X_te)\n",
        "\n",
        "\n",
        "accuracy = accuracy_score(y_te, y_pred)\n",
        "report = classification_report(y_te, y_pred)\n",
        "\n",
        "\n",
        "print(\"Accuracy: \" + accuracy)\n",
        "print(\"Classification Report:\\n\", report)\n"
      ],
      "metadata": {
        "colab": {
          "base_uri": "https://localhost:8080/"
        },
        "id": "rKaor3Q-n4jn",
        "outputId": "704d22c2-24a3-46a2-c66e-ed051c51856c"
      },
      "execution_count": 31,
      "outputs": [
        {
          "output_type": "stream",
          "name": "stdout",
          "text": [
            "Accuracy: 0.701331323787993\n",
            "Classification Report:\n",
            "               precision    recall  f1-score   support\n",
            "\n",
            "        High       0.55      0.29      0.38       238\n",
            "         Low       0.75      0.88      0.81      2488\n",
            "      Medium       0.57      0.42      0.48      1255\n",
            "\n",
            "    accuracy                           0.70      3981\n",
            "   macro avg       0.62      0.53      0.56      3981\n",
            "weighted avg       0.68      0.70      0.68      3981\n",
            "\n"
          ]
        }
      ]
    },
    {
      "cell_type": "markdown",
      "source": [
        "I will now add the binary Magnitude features to the model to attempt to improve the accuracy."
      ],
      "metadata": {
        "id": "C32JL5i0woC_"
      }
    },
    {
      "cell_type": "code",
      "source": [
        "x_cols4 = ['Year', 'Month', 'Latitude', 'Longitude', 'Depth',\n",
        "                    'Missing MD', 'Missing ML', 'Missing MM', 'Missing MSW', 'Missing MBW']\n",
        "y_col4 = 'Largest Magnitude'\n",
        "\n",
        "\n",
        "# Split the data into features and target\n",
        "X = df_encoded[x_cols4].values\n",
        "y = df_encoded[y_col4].values\n",
        "\n",
        "\n",
        "X_tr, X_te, y_tr, y_te = train_test_split(X, y_categorical, test_size=0.2)\n",
        "\n",
        "model = RandomForestClassifier()\n",
        "model.fit(X_tr, y_tr)\n",
        "\n",
        "y_pred = model.predict(X_te)\n",
        "\n",
        "\n",
        "accuracy = accuracy_score(y_te, y_pred)\n",
        "report = classification_report(y_te, y_pred)\n",
        "\n",
        "\n",
        "print(\"Accuracy:\", accuracy)\n",
        "print(\"Classification Report:\\n\", report)"
      ],
      "metadata": {
        "colab": {
          "base_uri": "https://localhost:8080/"
        },
        "id": "An8t2LNHoEoD",
        "outputId": "049e46e7-14fe-468b-8050-2f4167888f5d"
      },
      "execution_count": 39,
      "outputs": [
        {
          "output_type": "stream",
          "name": "stdout",
          "text": [
            "Accuracy: 0.7437829691032404\n",
            "Classification Report:\n",
            "               precision    recall  f1-score   support\n",
            "\n",
            "        High       0.60      0.37      0.46       218\n",
            "         Low       0.77      0.91      0.83      2420\n",
            "      Medium       0.69      0.50      0.58      1343\n",
            "\n",
            "    accuracy                           0.74      3981\n",
            "   macro avg       0.69      0.59      0.62      3981\n",
            "weighted avg       0.73      0.74      0.73      3981\n",
            "\n"
          ]
        }
      ]
    },
    {
      "cell_type": "markdown",
      "source": [
        "While the accuracy is not idealm, this is the maximum amount of features I can add to the model. If I were to add the Magnitude features, of which the target varibale Largest Madnitude is the largest of for that data point, that would raise issues of multicollinearity and skew the results."
      ],
      "metadata": {
        "id": "a03-83XeqeN7"
      }
    }
  ]
}